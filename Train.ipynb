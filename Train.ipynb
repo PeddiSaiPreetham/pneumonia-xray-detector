{
  "nbformat": 4,
  "nbformat_minor": 0,
  "metadata": {
    "colab": {
      "provenance": [],
      "gpuType": "T4"
    },
    "kernelspec": {
      "name": "python3",
      "display_name": "Python 3"
    },
    "language_info": {
      "name": "python"
    },
    "accelerator": "GPU"
  },
  "cells": [
    {
      "cell_type": "code",
      "execution_count": 1,
      "metadata": {
        "id": "HgZha9D3NdR4"
      },
      "outputs": [],
      "source": [
        "import os\n",
        "import cv2\n",
        "import numpy as np\n",
        "import torch\n",
        "from torch.utils.data import Dataset, DataLoader\n",
        "from torchvision import models\n",
        "import torch.nn as nn\n",
        "import torch.optim as optim\n",
        "from sklearn.metrics import accuracy_score, classification_report\n",
        "import kagglehub\n",
        "\n",
        "class XRayRGBDataset(Dataset):\n",
        "    def __init__(self, root_dir):\n",
        "        self.samples = []\n",
        "        self.labels = []\n",
        "        self.class_map = {'NORMAL': 0, 'PNEUMONIA': 1}\n",
        "\n",
        "        for label in ['NORMAL', 'PNEUMONIA']:\n",
        "            folder = os.path.join(root_dir, label)\n",
        "            for fname in os.listdir(folder):\n",
        "                if fname.lower().endswith(('.png', '.jpg', '.jpeg')):\n",
        "                    self.samples.append(os.path.join(folder, fname))\n",
        "                    self.labels.append(self.class_map[label])\n",
        "\n",
        "    def __len__(self):\n",
        "        return len(self.samples)\n",
        "\n",
        "    def __getitem__(self, idx):\n",
        "        img_path = self.samples[idx]\n",
        "        label = self.labels[idx]\n",
        "\n",
        "        img = cv2.imread(img_path)  # RGB by default\n",
        "        img = cv2.resize(img, (224, 224))\n",
        "        img = img.astype(np.float32) / 255.0\n",
        "        img = (img - 0.5) / 0.5  # normalize to [-1, 1]\n",
        "        img = np.transpose(img, (2, 0, 1))  # (C, H, W)\n",
        "        return torch.tensor(img, dtype=torch.float32), torch.tensor(label, dtype=torch.long)\n",
        "\n",
        "path = kagglehub.dataset_download(\"paultimothymooney/chest-xray-pneumonia\")\n",
        "data_root = os.path.join(path, \"chest_xray\")\n",
        "\n",
        "train_dataset = XRayRGBDataset(os.path.join(data_root, \"train\"))\n",
        "test_dataset = XRayRGBDataset(os.path.join(data_root, \"test\"))\n",
        "\n",
        "train_loader = DataLoader(train_dataset, batch_size=32, shuffle=True)\n",
        "test_loader = DataLoader(test_dataset, batch_size=32, shuffle=False)\n"
      ]
    },
    {
      "cell_type": "code",
      "source": [
        "device = torch.device(\"cuda\" if torch.cuda.is_available() else \"cpu\")\n",
        "\n",
        "model = models.resnet18(pretrained=True)\n",
        "\n",
        "# Replace final fully-connected layer for binary classification\n",
        "num_ftrs = model.fc.in_features\n",
        "model.fc = nn.Linear(num_ftrs, 2)\n",
        "\n",
        "model = model.to(device)\n",
        "\n",
        "criterion = nn.CrossEntropyLoss()\n",
        "optimizer = optim.Adam(model.parameters(), lr=1e-4)\n",
        "\n",
        "for epoch in range(5):\n",
        "    model.train()\n",
        "    running_loss = 0\n",
        "    for images, labels in train_loader:\n",
        "        images, labels = images.to(device), labels.to(device)\n",
        "\n",
        "        optimizer.zero_grad()\n",
        "        outputs = model(images)\n",
        "        loss = criterion(outputs, labels)\n",
        "        loss.backward()\n",
        "        optimizer.step()\n",
        "        running_loss += loss.item()\n",
        "\n",
        "    print(f\"Epoch {epoch+1}, Loss: {running_loss / len(train_loader):.4f}\")\n"
      ],
      "metadata": {
        "colab": {
          "base_uri": "https://localhost:8080/"
        },
        "id": "2ZB-0ddDNzXA",
        "outputId": "74425229-aa25-43d3-be45-1925e41d5db1"
      },
      "execution_count": 4,
      "outputs": [
        {
          "output_type": "stream",
          "name": "stderr",
          "text": [
            "/usr/local/lib/python3.11/dist-packages/torchvision/models/_utils.py:208: UserWarning: The parameter 'pretrained' is deprecated since 0.13 and may be removed in the future, please use 'weights' instead.\n",
            "  warnings.warn(\n",
            "/usr/local/lib/python3.11/dist-packages/torchvision/models/_utils.py:223: UserWarning: Arguments other than a weight enum or `None` for 'weights' are deprecated since 0.13 and may be removed in the future. The current behavior is equivalent to passing `weights=ResNet18_Weights.IMAGENET1K_V1`. You can also use `weights=ResNet18_Weights.DEFAULT` to get the most up-to-date weights.\n",
            "  warnings.warn(msg)\n"
          ]
        },
        {
          "output_type": "stream",
          "name": "stdout",
          "text": [
            "Epoch 1, Loss: 0.0775\n",
            "Epoch 2, Loss: 0.0274\n",
            "Epoch 3, Loss: 0.0137\n",
            "Epoch 4, Loss: 0.0059\n",
            "Epoch 5, Loss: 0.0057\n"
          ]
        }
      ]
    },
    {
      "cell_type": "code",
      "source": [
        "model.eval()\n",
        "y_true, y_pred = [], []\n",
        "\n",
        "with torch.no_grad():\n",
        "    for images, labels in test_loader:\n",
        "        images = images.to(device)\n",
        "        outputs = model(images)\n",
        "        _, preds = torch.max(outputs, 1)\n",
        "        y_true.extend(labels.numpy())\n",
        "        y_pred.extend(preds.cpu().numpy())\n",
        "\n",
        "print(\"Accuracy:\", accuracy_score(y_true, y_pred))\n",
        "print(classification_report(y_true, y_pred, target_names=['NORMAL', 'PNEUMONIA']))\n"
      ],
      "metadata": {
        "colab": {
          "base_uri": "https://localhost:8080/"
        },
        "id": "IgFd7K4ZN4gh",
        "outputId": "e37b2649-e19c-4d22-f4c2-f3d042984a3d"
      },
      "execution_count": 5,
      "outputs": [
        {
          "output_type": "stream",
          "name": "stdout",
          "text": [
            "Accuracy: 0.8189102564102564\n",
            "              precision    recall  f1-score   support\n",
            "\n",
            "      NORMAL       0.97      0.53      0.69       234\n",
            "   PNEUMONIA       0.78      0.99      0.87       390\n",
            "\n",
            "    accuracy                           0.82       624\n",
            "   macro avg       0.87      0.76      0.78       624\n",
            "weighted avg       0.85      0.82      0.80       624\n",
            "\n"
          ]
        }
      ]
    },
    {
      "cell_type": "code",
      "source": [
        "torch.save(model.state_dict(), \"pneumonia_detector.pt\")\n"
      ],
      "metadata": {
        "id": "TMBKoFLvQLXd"
      },
      "execution_count": 6,
      "outputs": []
    }
  ]
}